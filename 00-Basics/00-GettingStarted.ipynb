{
 "cells": [
  {
   "cell_type": "code",
   "execution_count": 1,
   "metadata": {},
   "outputs": [],
   "source": [
    "import torch"
   ]
  },
  {
   "cell_type": "markdown",
   "metadata": {},
   "source": [
    "** Tensors **\n",
    "\n",
    "Tensors are similar to numpy arrays, with addition power to use gpu."
   ]
  },
  {
   "cell_type": "markdown",
   "metadata": {},
   "source": [
    "Construct a 5x5 matrix, uninitialized.\n",
    "\n",
    "Note: This matrix takes the garbage value from the location it is declare."
   ]
  },
  {
   "cell_type": "code",
   "execution_count": 2,
   "metadata": {},
   "outputs": [
    {
     "output_type": "stream",
     "name": "stdout",
     "text": "tensor([[3.1886e-12, 6.8608e+22, 1.1446e+24, 2.0194e-19, 5.0833e+31],\n        [1.8936e+23, 7.7447e+31, 1.6929e+22, 2.9514e+29, 1.2124e+25],\n        [7.1463e+22, 1.8759e+28, 8.3967e-33, 1.3563e-19, 6.7713e+22],\n        [4.5145e+27, 9.4979e+23, 7.1554e+22, 2.7523e+23, 1.6556e+22],\n        [7.9452e+08, 6.6129e+19, 6.6532e-33, 4.3612e+27, 8.7518e-04]])\n"
    }
   ],
   "source": [
    "x = torch.empty(5, 5)\n",
    "print(x)"
   ]
  },
  {
   "cell_type": "markdown",
   "metadata": {},
   "source": [
    "Construct randomly initialized matrix."
   ]
  },
  {
   "cell_type": "code",
   "execution_count": 3,
   "metadata": {},
   "outputs": [
    {
     "output_type": "stream",
     "name": "stdout",
     "text": "tensor([[0.0966, 0.0072, 0.6108, 0.7094, 0.5697],\n        [0.5500, 0.7075, 0.8456, 0.4299, 0.8779],\n        [0.6861, 0.8931, 0.7038, 0.4765, 0.1129],\n        [0.8052, 0.9176, 0.9454, 0.7136, 0.9218],\n        [0.3281, 0.3408, 0.6152, 0.4023, 0.8072]])\n"
    }
   ],
   "source": [
    "x = torch.rand(5, 5)\n",
    "print(x)"
   ]
  },
  {
   "cell_type": "markdown",
   "metadata": {},
   "source": [
    "Contruct a matrix filled with zeros."
   ]
  },
  {
   "cell_type": "code",
   "execution_count": 4,
   "metadata": {},
   "outputs": [
    {
     "output_type": "stream",
     "name": "stdout",
     "text": "tensor([[0., 0., 0., 0., 0.],\n        [0., 0., 0., 0., 0.],\n        [0., 0., 0., 0., 0.],\n        [0., 0., 0., 0., 0.],\n        [0., 0., 0., 0., 0.]])\n"
    }
   ],
   "source": [
    "x = torch.zeros(5,5)\n",
    "print(x)"
   ]
  },
  {
   "cell_type": "markdown",
   "metadata": {},
   "source": [
    "Contruct a matrix directly from data."
   ]
  },
  {
   "cell_type": "code",
   "execution_count": 5,
   "metadata": {},
   "outputs": [
    {
     "output_type": "stream",
     "name": "stdout",
     "text": "tensor([1, 2, 3, 4, 5])\n"
    }
   ],
   "source": [
    "x = torch.tensor([1, 2, 3, 4, 5])\n",
    "print(x)"
   ]
  },
  {
   "cell_type": "markdown",
   "metadata": {},
   "source": [
    "Contructing tensors from existing tensors of different sizes and dtypes.(Unless user gives new values)"
   ]
  },
  {
   "cell_type": "code",
   "execution_count": 6,
   "metadata": {},
   "outputs": [
    {
     "output_type": "stream",
     "name": "stdout",
     "text": "tensor([[1., 1., 1.],\n        [1., 1., 1.],\n        [1., 1., 1.],\n        [1., 1., 1.],\n        [1., 1., 1.]], dtype=torch.float64)\ntensor([[0.4137, 0.0035, 0.0069],\n        [0.4101, 0.0291, 0.4463],\n        [0.3941, 0.2608, 0.2843],\n        [0.6220, 0.2708, 0.1960],\n        [0.3741, 0.4757, 0.6725]])\n"
    }
   ],
   "source": [
    "x = x.new_ones(5, 3, dtype=torch.double) # new_* takes in sizes.\n",
    "print(x)\n",
    "\n",
    "x = torch.rand_like(x, dtype=torch.float) # *_like takes in tensors.\n",
    "print(x)"
   ]
  },
  {
   "cell_type": "markdown",
   "metadata": {},
   "source": [
    "Get tensor size or shape.\n",
    "They give same result.\n",
    "\n",
    "Note: torch.Size is a tuple."
   ]
  },
  {
   "cell_type": "code",
   "execution_count": 7,
   "metadata": {},
   "outputs": [
    {
     "output_type": "stream",
     "name": "stdout",
     "text": "torch.Size([5, 3])\ntorch.Size([5, 3])\n"
    }
   ],
   "source": [
    "print(x.size())\n",
    "print(x.shape)"
   ]
  },
  {
   "cell_type": "markdown",
   "metadata": {},
   "source": [
    "** Operations **\n",
    "\n",
    "There are multiple syntax for operations.\n",
    "We look at addition operation.\n",
    "\n",
    "Addition: Syntax 1"
   ]
  },
  {
   "cell_type": "code",
   "execution_count": 8,
   "metadata": {},
   "outputs": [
    {
     "output_type": "stream",
     "name": "stdout",
     "text": "tensor([[0.8363, 0.2577, 0.8956],\n        [0.7609, 0.0645, 0.6072],\n        [0.5371, 0.8923, 0.3786],\n        [1.3941, 1.1907, 0.6137],\n        [0.8105, 0.6989, 1.3978]])\n"
    }
   ],
   "source": [
    "y = torch.rand(5, 3)\n",
    "print(x + y)"
   ]
  },
  {
   "cell_type": "markdown",
   "metadata": {},
   "source": [
    "Addition: Syntax 2"
   ]
  },
  {
   "cell_type": "code",
   "execution_count": 9,
   "metadata": {},
   "outputs": [
    {
     "output_type": "stream",
     "name": "stdout",
     "text": "tensor([[0.8363, 0.2577, 0.8956],\n        [0.7609, 0.0645, 0.6072],\n        [0.5371, 0.8923, 0.3786],\n        [1.3941, 1.1907, 0.6137],\n        [0.8105, 0.6989, 1.3978]])\n"
    }
   ],
   "source": [
    "print(torch.add(x, y))"
   ]
  },
  {
   "cell_type": "markdown",
   "metadata": {},
   "source": [
    "Addition: Providing an output tensor as agrument."
   ]
  },
  {
   "cell_type": "code",
   "execution_count": 10,
   "metadata": {},
   "outputs": [
    {
     "output_type": "stream",
     "name": "stdout",
     "text": "tensor([[0.8363, 0.2577, 0.8956],\n        [0.7609, 0.0645, 0.6072],\n        [0.5371, 0.8923, 0.3786],\n        [1.3941, 1.1907, 0.6137],\n        [0.8105, 0.6989, 1.3978]])\n"
    }
   ],
   "source": [
    "result = torch.empty(5, 3)\n",
    "torch.add(x, y, out=result)\n",
    "print(result)"
   ]
  },
  {
   "cell_type": "markdown",
   "metadata": {},
   "source": [
    "Addition: in-place."
   ]
  },
  {
   "cell_type": "code",
   "execution_count": 11,
   "metadata": {},
   "outputs": [
    {
     "output_type": "execute_result",
     "data": {
      "text/plain": "tensor([[0.8363, 0.2577, 0.8956],\n        [0.7609, 0.0645, 0.6072],\n        [0.5371, 0.8923, 0.3786],\n        [1.3941, 1.1907, 0.6137],\n        [0.8105, 0.6989, 1.3978]])"
     },
     "metadata": {},
     "execution_count": 11
    }
   ],
   "source": [
    "y.add_(x) # Adds x to y."
   ]
  },
  {
   "cell_type": "markdown",
   "metadata": {},
   "source": [
    "Note: Any operation that mutates a tensor in-place is post-fixed with an _. For example: x.copy_(y), x.t_(), will change x.\n",
    "\n",
    "You can use all Numpy-Like indexing."
   ]
  },
  {
   "cell_type": "code",
   "execution_count": 12,
   "metadata": {},
   "outputs": [
    {
     "output_type": "stream",
     "name": "stdout",
     "text": "tensor([0.0035, 0.0291, 0.2608, 0.2708, 0.4757])\n"
    }
   ],
   "source": [
    "print(x[:, 1]) # It gives column 1."
   ]
  },
  {
   "cell_type": "markdown",
   "metadata": {},
   "source": [
    "Resizing: If you want to resize or reshape your tensors use .view()."
   ]
  },
  {
   "cell_type": "code",
   "execution_count": 13,
   "metadata": {},
   "outputs": [
    {
     "output_type": "stream",
     "name": "stdout",
     "text": "torch.Size([4, 4]) torch.Size([16]) torch.Size([2, 8])\n"
    }
   ],
   "source": [
    "x = torch.rand(4, 4)\n",
    "y = x.view(16) # It should be multiple.\n",
    "z = x.view(-1, 8) # -1 inferred for other dimensions.\n",
    "print(x.size(), y.size(), z.size())"
   ]
  },
  {
   "cell_type": "markdown",
   "metadata": {},
   "source": [
    "Get Python number from one value tensor."
   ]
  },
  {
   "cell_type": "code",
   "execution_count": 14,
   "metadata": {},
   "outputs": [
    {
     "output_type": "stream",
     "name": "stdout",
     "text": "tensor([-0.6121])\n-0.6120971441268921\n"
    }
   ],
   "source": [
    "x = torch.randn(1)\n",
    "print(x)\n",
    "print(x.item())"
   ]
  },
  {
   "cell_type": "markdown",
   "metadata": {},
   "source": [
    "** Numpy Bridge **\n",
    "\n",
    "Converting Torch Tensors to Numpy array and vice-versa.\n",
    "\n",
    "Note: The Torch Tensors and Numpy array share same location(On CPU) if converted. So, changing one will change other.\n",
    "\n",
    "Converting Torch Tensor to Numpy array."
   ]
  },
  {
   "cell_type": "code",
   "execution_count": 15,
   "metadata": {},
   "outputs": [
    {
     "output_type": "stream",
     "name": "stdout",
     "text": "tensor([1., 1., 1., 1., 1.])\n[1. 1. 1. 1. 1.]\n"
    }
   ],
   "source": [
    "a = torch.ones(5)\n",
    "print(a)\n",
    "b = a.numpy()\n",
    "print(b)"
   ]
  },
  {
   "cell_type": "markdown",
   "metadata": {},
   "source": [
    "See how changing one changes other."
   ]
  },
  {
   "cell_type": "code",
   "execution_count": 16,
   "metadata": {},
   "outputs": [
    {
     "output_type": "stream",
     "name": "stdout",
     "text": "tensor([2., 2., 2., 2., 2.])\n[2. 2. 2. 2. 2.]\n"
    }
   ],
   "source": [
    "a.add_(1)\n",
    "print(a)\n",
    "print(b)"
   ]
  },
  {
   "cell_type": "markdown",
   "metadata": {},
   "source": [
    "Converting Numpy array to Torch Tensor."
   ]
  },
  {
   "cell_type": "code",
   "execution_count": 17,
   "metadata": {},
   "outputs": [
    {
     "output_type": "stream",
     "name": "stdout",
     "text": "[1. 1. 1. 1. 1.]\ntensor([1., 1., 1., 1., 1.], dtype=torch.float64)\n"
    }
   ],
   "source": [
    "import numpy as np\n",
    "\n",
    "a = np.ones(5)\n",
    "b = torch.from_numpy(a)\n",
    "print(a)\n",
    "print(b)"
   ]
  },
  {
   "cell_type": "markdown",
   "metadata": {},
   "source": [
    "See changing Numpy array changes Torch Tensor."
   ]
  },
  {
   "cell_type": "code",
   "execution_count": 18,
   "metadata": {},
   "outputs": [
    {
     "output_type": "stream",
     "name": "stdout",
     "text": "[2. 2. 2. 2. 2.]\ntensor([2., 2., 2., 2., 2.], dtype=torch.float64)\n"
    }
   ],
   "source": [
    "np.add(a, 1, out=a)\n",
    "print(a)\n",
    "print(b)"
   ]
  },
  {
   "cell_type": "markdown",
   "metadata": {},
   "source": [
    "Note: All the Tensors on the CPU except a CharTensor support converting to NumPy and back.\n",
    "\n",
    "See more on https://pytorch.org/docs/stable/torch.html"
   ]
  },
  {
   "cell_type": "code",
   "execution_count": null,
   "metadata": {},
   "outputs": [],
   "source": []
  }
 ],
 "metadata": {
  "language_info": {
   "codemirror_mode": {
    "name": "ipython",
    "version": 3
   },
   "file_extension": ".py",
   "mimetype": "text/x-python",
   "name": "python",
   "nbconvert_exporter": "python",
   "pygments_lexer": "ipython3",
   "version": "3.7.5-final"
  },
  "orig_nbformat": 2,
  "kernelspec": {
   "name": "python37564bit4c236d3b60fd408a91b813d5cdf412d0",
   "display_name": "Python 3.7.5 64-bit"
  }
 },
 "nbformat": 4,
 "nbformat_minor": 2
}