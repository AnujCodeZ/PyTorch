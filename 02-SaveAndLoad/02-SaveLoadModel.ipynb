{
 "cells": [
  {
   "cell_type": "markdown",
   "metadata": {},
   "source": [
    "# Saving and loading Model in Pytorch."
   ]
  },
  {
   "cell_type": "code",
   "execution_count": 1,
   "metadata": {},
   "outputs": [],
   "source": [
    "# Importing Libraries\n",
    "import torch\n",
    "from torch import nn, optim\n",
    "import torch.nn.functional as F\n",
    "from torchvision import datasets, transforms\n",
    "import fc_model\n",
    "import matplotlib.pyplot as plt"
   ]
  },
  {
   "cell_type": "markdown",
   "metadata": {},
   "source": [
    "## Dataset."
   ]
  },
  {
   "cell_type": "code",
   "execution_count": 2,
   "metadata": {
    "tags": []
   },
   "outputs": [],
   "source": [
    "# Define a transform\n",
    "transform = transforms.Compose([transforms.ToTensor(), transforms.Normalize((0.5, ), (0.5, ))])\n",
    "\n",
    "# Loading train data\n",
    "trainset = datasets.FashionMNIST(root=\"../Data/\", download=True, train=True, transform=transform)\n",
    "trainloader = torch.utils.data.DataLoader(dataset=trainset, batch_size=64, shuffle=True)\n",
    "\n",
    "# Loading test data\n",
    "testset = datasets.FashionMNIST(root=\"../Data/\", download=True, train=False, transform=transform)\n",
    "testloader = torch.utils.data.DataLoader(dataset=testset, batch_size=64, shuffle=True)"
   ]
  },
  {
   "cell_type": "code",
   "execution_count": 3,
   "metadata": {},
   "outputs": [
    {
     "output_type": "display_data",
     "data": {
      "text/plain": "<Figure size 432x288 with 1 Axes>",
      "image/svg+xml": "<?xml version=\"1.0\" encoding=\"utf-8\" standalone=\"no\"?>\n<!DOCTYPE svg PUBLIC \"-//W3C//DTD SVG 1.1//EN\"\n  \"http://www.w3.org/Graphics/SVG/1.1/DTD/svg11.dtd\">\n<!-- Created with matplotlib (https://matplotlib.org/) -->\n<svg height=\"248.518125pt\" version=\"1.1\" viewBox=\"0 0 251.565 248.518125\" width=\"251.565pt\" xmlns=\"http://www.w3.org/2000/svg\" xmlns:xlink=\"http://www.w3.org/1999/xlink\">\n <defs>\n  <style type=\"text/css\">\n*{stroke-linecap:butt;stroke-linejoin:round;}\n  </style>\n </defs>\n <g id=\"figure_1\">\n  <g id=\"patch_1\">\n   <path d=\"M 0 248.518125 \nL 251.565 248.518125 \nL 251.565 0 \nL 0 0 \nz\n\" style=\"fill:none;\"/>\n  </g>\n  <g id=\"axes_1\">\n   <g id=\"patch_2\">\n    <path d=\"M 26.925 224.64 \nL 244.365 224.64 \nL 244.365 7.2 \nL 26.925 7.2 \nz\n\" style=\"fill:#ffffff;\"/>\n   </g>\n   <g clip-path=\"url(#p588b6dcac3)\">\n    <image height=\"218\" id=\"image98ddd0ddc9\" transform=\"scale(1 -1)translate(0 -218)\" width=\"218\" x=\"26.925\" xlink:href=\"data:image/png;base64,\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\" y=\"-6.64\"/>\n   </g>\n   <g id=\"matplotlib.axis_1\">\n    <g id=\"xtick_1\">\n     <g id=\"line2d_1\">\n      <defs>\n       <path d=\"M 0 0 \nL 0 3.5 \n\" id=\"m1c14ee49d1\" style=\"stroke:#000000;stroke-width:0.8;\"/>\n      </defs>\n      <g>\n       <use style=\"stroke:#000000;stroke-width:0.8;\" x=\"30.807857\" xlink:href=\"#m1c14ee49d1\" y=\"224.64\"/>\n      </g>\n     </g>\n     <g id=\"text_1\">\n      <!-- 0 -->\n      <defs>\n       <path d=\"M 31.78125 66.40625 \nQ 24.171875 66.40625 20.328125 58.90625 \nQ 16.5 51.421875 16.5 36.375 \nQ 16.5 21.390625 20.328125 13.890625 \nQ 24.171875 6.390625 31.78125 6.390625 \nQ 39.453125 6.390625 43.28125 13.890625 \nQ 47.125 21.390625 47.125 36.375 \nQ 47.125 51.421875 43.28125 58.90625 \nQ 39.453125 66.40625 31.78125 66.40625 \nz\nM 31.78125 74.21875 \nQ 44.046875 74.21875 50.515625 64.515625 \nQ 56.984375 54.828125 56.984375 36.375 \nQ 56.984375 17.96875 50.515625 8.265625 \nQ 44.046875 -1.421875 31.78125 -1.421875 \nQ 19.53125 -1.421875 13.0625 8.265625 \nQ 6.59375 17.96875 6.59375 36.375 \nQ 6.59375 54.828125 13.0625 64.515625 \nQ 19.53125 74.21875 31.78125 74.21875 \nz\n\" id=\"DejaVuSans-48\"/>\n      </defs>\n      <g transform=\"translate(27.626607 239.238437)scale(0.1 -0.1)\">\n       <use xlink:href=\"#DejaVuSans-48\"/>\n      </g>\n     </g>\n    </g>\n    <g id=\"xtick_2\">\n     <g id=\"line2d_2\">\n      <g>\n       <use style=\"stroke:#000000;stroke-width:0.8;\" x=\"69.636429\" xlink:href=\"#m1c14ee49d1\" y=\"224.64\"/>\n      </g>\n     </g>\n     <g id=\"text_2\">\n      <!-- 5 -->\n      <defs>\n       <path d=\"M 10.796875 72.90625 \nL 49.515625 72.90625 \nL 49.515625 64.59375 \nL 19.828125 64.59375 \nL 19.828125 46.734375 \nQ 21.96875 47.46875 24.109375 47.828125 \nQ 26.265625 48.1875 28.421875 48.1875 \nQ 40.625 48.1875 47.75 41.5 \nQ 54.890625 34.8125 54.890625 23.390625 \nQ 54.890625 11.625 47.5625 5.09375 \nQ 40.234375 -1.421875 26.90625 -1.421875 \nQ 22.3125 -1.421875 17.546875 -0.640625 \nQ 12.796875 0.140625 7.71875 1.703125 \nL 7.71875 11.625 \nQ 12.109375 9.234375 16.796875 8.0625 \nQ 21.484375 6.890625 26.703125 6.890625 \nQ 35.15625 6.890625 40.078125 11.328125 \nQ 45.015625 15.765625 45.015625 23.390625 \nQ 45.015625 31 40.078125 35.4375 \nQ 35.15625 39.890625 26.703125 39.890625 \nQ 22.75 39.890625 18.8125 39.015625 \nQ 14.890625 38.140625 10.796875 36.28125 \nz\n\" id=\"DejaVuSans-53\"/>\n      </defs>\n      <g transform=\"translate(66.455179 239.238437)scale(0.1 -0.1)\">\n       <use xlink:href=\"#DejaVuSans-53\"/>\n      </g>\n     </g>\n    </g>\n    <g id=\"xtick_3\">\n     <g id=\"line2d_3\">\n      <g>\n       <use style=\"stroke:#000000;stroke-width:0.8;\" x=\"108.465\" xlink:href=\"#m1c14ee49d1\" y=\"224.64\"/>\n      </g>\n     </g>\n     <g id=\"text_3\">\n      <!-- 10 -->\n      <defs>\n       <path d=\"M 12.40625 8.296875 \nL 28.515625 8.296875 \nL 28.515625 63.921875 \nL 10.984375 60.40625 \nL 10.984375 69.390625 \nL 28.421875 72.90625 \nL 38.28125 72.90625 \nL 38.28125 8.296875 \nL 54.390625 8.296875 \nL 54.390625 0 \nL 12.40625 0 \nz\n\" id=\"DejaVuSans-49\"/>\n      </defs>\n      <g transform=\"translate(102.1025 239.238437)scale(0.1 -0.1)\">\n       <use xlink:href=\"#DejaVuSans-49\"/>\n       <use x=\"63.623047\" xlink:href=\"#DejaVuSans-48\"/>\n      </g>\n     </g>\n    </g>\n    <g id=\"xtick_4\">\n     <g id=\"line2d_4\">\n      <g>\n       <use style=\"stroke:#000000;stroke-width:0.8;\" x=\"147.293571\" xlink:href=\"#m1c14ee49d1\" y=\"224.64\"/>\n      </g>\n     </g>\n     <g id=\"text_4\">\n      <!-- 15 -->\n      <g transform=\"translate(140.931071 239.238437)scale(0.1 -0.1)\">\n       <use xlink:href=\"#DejaVuSans-49\"/>\n       <use x=\"63.623047\" xlink:href=\"#DejaVuSans-53\"/>\n      </g>\n     </g>\n    </g>\n    <g id=\"xtick_5\">\n     <g id=\"line2d_5\">\n      <g>\n       <use style=\"stroke:#000000;stroke-width:0.8;\" x=\"186.122143\" xlink:href=\"#m1c14ee49d1\" y=\"224.64\"/>\n      </g>\n     </g>\n     <g id=\"text_5\">\n      <!-- 20 -->\n      <defs>\n       <path d=\"M 19.1875 8.296875 \nL 53.609375 8.296875 \nL 53.609375 0 \nL 7.328125 0 \nL 7.328125 8.296875 \nQ 12.9375 14.109375 22.625 23.890625 \nQ 32.328125 33.6875 34.8125 36.53125 \nQ 39.546875 41.84375 41.421875 45.53125 \nQ 43.3125 49.21875 43.3125 52.78125 \nQ 43.3125 58.59375 39.234375 62.25 \nQ 35.15625 65.921875 28.609375 65.921875 \nQ 23.96875 65.921875 18.8125 64.3125 \nQ 13.671875 62.703125 7.8125 59.421875 \nL 7.8125 69.390625 \nQ 13.765625 71.78125 18.9375 73 \nQ 24.125 74.21875 28.421875 74.21875 \nQ 39.75 74.21875 46.484375 68.546875 \nQ 53.21875 62.890625 53.21875 53.421875 \nQ 53.21875 48.921875 51.53125 44.890625 \nQ 49.859375 40.875 45.40625 35.40625 \nQ 44.1875 33.984375 37.640625 27.21875 \nQ 31.109375 20.453125 19.1875 8.296875 \nz\n\" id=\"DejaVuSans-50\"/>\n      </defs>\n      <g transform=\"translate(179.759643 239.238437)scale(0.1 -0.1)\">\n       <use xlink:href=\"#DejaVuSans-50\"/>\n       <use x=\"63.623047\" xlink:href=\"#DejaVuSans-48\"/>\n      </g>\n     </g>\n    </g>\n    <g id=\"xtick_6\">\n     <g id=\"line2d_6\">\n      <g>\n       <use style=\"stroke:#000000;stroke-width:0.8;\" x=\"224.950714\" xlink:href=\"#m1c14ee49d1\" y=\"224.64\"/>\n      </g>\n     </g>\n     <g id=\"text_6\">\n      <!-- 25 -->\n      <g transform=\"translate(218.588214 239.238437)scale(0.1 -0.1)\">\n       <use xlink:href=\"#DejaVuSans-50\"/>\n       <use x=\"63.623047\" xlink:href=\"#DejaVuSans-53\"/>\n      </g>\n     </g>\n    </g>\n   </g>\n   <g id=\"matplotlib.axis_2\">\n    <g id=\"ytick_1\">\n     <g id=\"line2d_7\">\n      <defs>\n       <path d=\"M 0 0 \nL -3.5 0 \n\" id=\"ma5d45eca0d\" style=\"stroke:#000000;stroke-width:0.8;\"/>\n      </defs>\n      <g>\n       <use style=\"stroke:#000000;stroke-width:0.8;\" x=\"26.925\" xlink:href=\"#ma5d45eca0d\" y=\"11.082857\"/>\n      </g>\n     </g>\n     <g id=\"text_7\">\n      <!-- 0 -->\n      <g transform=\"translate(13.5625 14.882076)scale(0.1 -0.1)\">\n       <use xlink:href=\"#DejaVuSans-48\"/>\n      </g>\n     </g>\n    </g>\n    <g id=\"ytick_2\">\n     <g id=\"line2d_8\">\n      <g>\n       <use style=\"stroke:#000000;stroke-width:0.8;\" x=\"26.925\" xlink:href=\"#ma5d45eca0d\" y=\"49.911429\"/>\n      </g>\n     </g>\n     <g id=\"text_8\">\n      <!-- 5 -->\n      <g transform=\"translate(13.5625 53.710647)scale(0.1 -0.1)\">\n       <use xlink:href=\"#DejaVuSans-53\"/>\n      </g>\n     </g>\n    </g>\n    <g id=\"ytick_3\">\n     <g id=\"line2d_9\">\n      <g>\n       <use style=\"stroke:#000000;stroke-width:0.8;\" x=\"26.925\" xlink:href=\"#ma5d45eca0d\" y=\"88.74\"/>\n      </g>\n     </g>\n     <g id=\"text_9\">\n      <!-- 10 -->\n      <g transform=\"translate(7.2 92.539219)scale(0.1 -0.1)\">\n       <use xlink:href=\"#DejaVuSans-49\"/>\n       <use x=\"63.623047\" xlink:href=\"#DejaVuSans-48\"/>\n      </g>\n     </g>\n    </g>\n    <g id=\"ytick_4\">\n     <g id=\"line2d_10\">\n      <g>\n       <use style=\"stroke:#000000;stroke-width:0.8;\" x=\"26.925\" xlink:href=\"#ma5d45eca0d\" y=\"127.568571\"/>\n      </g>\n     </g>\n     <g id=\"text_10\">\n      <!-- 15 -->\n      <g transform=\"translate(7.2 131.36779)scale(0.1 -0.1)\">\n       <use xlink:href=\"#DejaVuSans-49\"/>\n       <use x=\"63.623047\" xlink:href=\"#DejaVuSans-53\"/>\n      </g>\n     </g>\n    </g>\n    <g id=\"ytick_5\">\n     <g id=\"line2d_11\">\n      <g>\n       <use style=\"stroke:#000000;stroke-width:0.8;\" x=\"26.925\" xlink:href=\"#ma5d45eca0d\" y=\"166.397143\"/>\n      </g>\n     </g>\n     <g id=\"text_11\">\n      <!-- 20 -->\n      <g transform=\"translate(7.2 170.196362)scale(0.1 -0.1)\">\n       <use xlink:href=\"#DejaVuSans-50\"/>\n       <use x=\"63.623047\" xlink:href=\"#DejaVuSans-48\"/>\n      </g>\n     </g>\n    </g>\n    <g id=\"ytick_6\">\n     <g id=\"line2d_12\">\n      <g>\n       <use style=\"stroke:#000000;stroke-width:0.8;\" x=\"26.925\" xlink:href=\"#ma5d45eca0d\" y=\"205.225714\"/>\n      </g>\n     </g>\n     <g id=\"text_12\">\n      <!-- 25 -->\n      <g transform=\"translate(7.2 209.024933)scale(0.1 -0.1)\">\n       <use xlink:href=\"#DejaVuSans-50\"/>\n       <use x=\"63.623047\" xlink:href=\"#DejaVuSans-53\"/>\n      </g>\n     </g>\n    </g>\n   </g>\n   <g id=\"patch_3\">\n    <path d=\"M 26.925 224.64 \nL 26.925 7.2 \n\" style=\"fill:none;stroke:#000000;stroke-linecap:square;stroke-linejoin:miter;stroke-width:0.8;\"/>\n   </g>\n   <g id=\"patch_4\">\n    <path d=\"M 244.365 224.64 \nL 244.365 7.2 \n\" style=\"fill:none;stroke:#000000;stroke-linecap:square;stroke-linejoin:miter;stroke-width:0.8;\"/>\n   </g>\n   <g id=\"patch_5\">\n    <path d=\"M 26.925 224.64 \nL 244.365 224.64 \n\" style=\"fill:none;stroke:#000000;stroke-linecap:square;stroke-linejoin:miter;stroke-width:0.8;\"/>\n   </g>\n   <g id=\"patch_6\">\n    <path d=\"M 26.925 7.2 \nL 244.365 7.2 \n\" style=\"fill:none;stroke:#000000;stroke-linecap:square;stroke-linejoin:miter;stroke-width:0.8;\"/>\n   </g>\n  </g>\n </g>\n <defs>\n  <clipPath id=\"p588b6dcac3\">\n   <rect height=\"217.44\" width=\"217.44\" x=\"26.925\" y=\"7.2\"/>\n  </clipPath>\n </defs>\n</svg>\n",
      "image/png": "[encoded data removed]"
     },
     "metadata": {
      "needs_background": "light"
     }
    }
   ],
   "source": [
    "image, label = next(iter(trainloader))\n",
    "plt.imshow(image[0,:].reshape(28, 28), cmap='Greys_r')\n",
    "plt.show()"
   ]
  },
  {
   "cell_type": "markdown",
   "metadata": {},
   "source": [
    "## Train model."
   ]
  },
  {
   "cell_type": "code",
   "execution_count": 4,
   "metadata": {},
   "outputs": [],
   "source": [
    "# Create model, loss function and optimizer\n",
    "\n",
    "model = fc_model.Network(784, 10, [512, 256, 128])\n",
    "criterion = nn.NLLLoss()\n",
    "optimizer = optim.Adam(model.parameters(), lr=0.001)"
   ]
  },
  {
   "cell_type": "code",
   "execution_count": 5,
   "metadata": {
    "tags": []
   },
   "outputs": [
    {
     "output_type": "stream",
     "name": "stdout",
     "text": "Epoch: 1/2..  Training Loss: 1.670..  Test Loss: 0.933..  Test Accuracy: 0.654\nEpoch: 1/2..  Training Loss: 1.011..  Test Loss: 0.776..  Test Accuracy: 0.710\nEpoch: 1/2..  Training Loss: 0.849..  Test Loss: 0.670..  Test Accuracy: 0.745\nEpoch: 1/2..  Training Loss: 0.773..  Test Loss: 0.650..  Test Accuracy: 0.744\nEpoch: 1/2..  Training Loss: 0.788..  Test Loss: 0.625..  Test Accuracy: 0.761\nEpoch: 1/2..  Training Loss: 0.716..  Test Loss: 0.590..  Test Accuracy: 0.772\nEpoch: 1/2..  Training Loss: 0.678..  Test Loss: 0.598..  Test Accuracy: 0.766\nEpoch: 1/2..  Training Loss: 0.730..  Test Loss: 0.570..  Test Accuracy: 0.781\nEpoch: 1/2..  Training Loss: 0.673..  Test Loss: 0.552..  Test Accuracy: 0.793\nEpoch: 1/2..  Training Loss: 0.653..  Test Loss: 0.581..  Test Accuracy: 0.786\nEpoch: 1/2..  Training Loss: 0.639..  Test Loss: 0.548..  Test Accuracy: 0.796\nEpoch: 1/2..  Training Loss: 0.604..  Test Loss: 0.536..  Test Accuracy: 0.799\nEpoch: 1/2..  Training Loss: 0.638..  Test Loss: 0.515..  Test Accuracy: 0.809\nEpoch: 1/2..  Training Loss: 0.636..  Test Loss: 0.503..  Test Accuracy: 0.812\nEpoch: 1/2..  Training Loss: 0.556..  Test Loss: 0.519..  Test Accuracy: 0.813\nEpoch: 1/2..  Training Loss: 0.574..  Test Loss: 0.506..  Test Accuracy: 0.818\nEpoch: 1/2..  Training Loss: 0.591..  Test Loss: 0.480..  Test Accuracy: 0.824\nEpoch: 1/2..  Training Loss: 0.595..  Test Loss: 0.510..  Test Accuracy: 0.814\nEpoch: 1/2..  Training Loss: 0.557..  Test Loss: 0.504..  Test Accuracy: 0.819\nEpoch: 1/2..  Training Loss: 0.571..  Test Loss: 0.498..  Test Accuracy: 0.823\nEpoch: 1/2..  Training Loss: 0.595..  Test Loss: 0.502..  Test Accuracy: 0.819\nEpoch: 1/2..  Training Loss: 0.569..  Test Loss: 0.487..  Test Accuracy: 0.821\nEpoch: 1/2..  Training Loss: 0.517..  Test Loss: 0.475..  Test Accuracy: 0.827\nEpoch: 2/2..  Training Loss: 0.591..  Test Loss: 0.496..  Test Accuracy: 0.816\nEpoch: 2/2..  Training Loss: 0.566..  Test Loss: 0.478..  Test Accuracy: 0.822\nEpoch: 2/2..  Training Loss: 0.564..  Test Loss: 0.474..  Test Accuracy: 0.825\nEpoch: 2/2..  Training Loss: 0.549..  Test Loss: 0.461..  Test Accuracy: 0.833\nEpoch: 2/2..  Training Loss: 0.536..  Test Loss: 0.457..  Test Accuracy: 0.831\nEpoch: 2/2..  Training Loss: 0.551..  Test Loss: 0.469..  Test Accuracy: 0.830\nEpoch: 2/2..  Training Loss: 0.525..  Test Loss: 0.464..  Test Accuracy: 0.830\nEpoch: 2/2..  Training Loss: 0.527..  Test Loss: 0.478..  Test Accuracy: 0.825\nEpoch: 2/2..  Training Loss: 0.526..  Test Loss: 0.455..  Test Accuracy: 0.833\nEpoch: 2/2..  Training Loss: 0.510..  Test Loss: 0.485..  Test Accuracy: 0.819\nEpoch: 2/2..  Training Loss: 0.541..  Test Loss: 0.455..  Test Accuracy: 0.834\nEpoch: 2/2..  Training Loss: 0.572..  Test Loss: 0.472..  Test Accuracy: 0.826\nEpoch: 2/2..  Training Loss: 0.505..  Test Loss: 0.465..  Test Accuracy: 0.832\nEpoch: 2/2..  Training Loss: 0.531..  Test Loss: 0.479..  Test Accuracy: 0.829\nEpoch: 2/2..  Training Loss: 0.512..  Test Loss: 0.454..  Test Accuracy: 0.838\nEpoch: 2/2..  Training Loss: 0.505..  Test Loss: 0.442..  Test Accuracy: 0.838\nEpoch: 2/2..  Training Loss: 0.501..  Test Loss: 0.442..  Test Accuracy: 0.840\nEpoch: 2/2..  Training Loss: 0.555..  Test Loss: 0.458..  Test Accuracy: 0.835\nEpoch: 2/2..  Training Loss: 0.494..  Test Loss: 0.445..  Test Accuracy: 0.840\nEpoch: 2/2..  Training Loss: 0.541..  Test Loss: 0.452..  Test Accuracy: 0.838\nEpoch: 2/2..  Training Loss: 0.504..  Test Loss: 0.455..  Test Accuracy: 0.837\nEpoch: 2/2..  Training Loss: 0.483..  Test Loss: 0.459..  Test Accuracy: 0.835\nEpoch: 2/2..  Training Loss: 0.528..  Test Loss: 0.447..  Test Accuracy: 0.840\n"
    }
   ],
   "source": [
    "fc_model.train(model, trainloader, testloader, criterion, optimizer, epochs=2)"
   ]
  },
  {
   "cell_type": "markdown",
   "metadata": {},
   "source": [
    "## Saving and loading networks."
   ]
  },
  {
   "cell_type": "code",
   "execution_count": 6,
   "metadata": {
    "tags": []
   },
   "outputs": [
    {
     "output_type": "stream",
     "name": "stdout",
     "text": "Our model:\n Network(\n  (hidden_layers): ModuleList(\n    (0): Linear(in_features=784, out_features=512, bias=True)\n    (1): Linear(in_features=512, out_features=256, bias=True)\n    (2): Linear(in_features=256, out_features=128, bias=True)\n  )\n  (output): Linear(in_features=128, out_features=10, bias=True)\n  (dropout): Dropout(p=0.5, inplace=False)\n)\nThe state dict:\n odict_keys(['hidden_layers.0.weight', 'hidden_layers.0.bias', 'hidden_layers.1.weight', 'hidden_layers.1.bias', 'hidden_layers.2.weight', 'hidden_layers.2.bias', 'output.weight', 'output.bias'])\n"
    }
   ],
   "source": [
    "# We actually save state_dict which holds values of weights and biases\n",
    "\n",
    "print(\"Our model:\\n\", model)\n",
    "print(\"The state dict:\\n\", model.state_dict().keys())"
   ]
  },
  {
   "cell_type": "code",
   "execution_count": 7,
   "metadata": {},
   "outputs": [],
   "source": [
    "# Saving model dictionary\n",
    "torch.save(model.state_dict(), \"checkpoint.pth\")"
   ]
  },
  {
   "cell_type": "code",
   "execution_count": 9,
   "metadata": {
    "tags": []
   },
   "outputs": [
    {
     "output_type": "stream",
     "name": "stdout",
     "text": "odict_keys(['hidden_layers.0.weight', 'hidden_layers.0.bias', 'hidden_layers.1.weight', 'hidden_layers.1.bias', 'hidden_layers.2.weight', 'hidden_layers.2.bias', 'output.weight', 'output.bias'])\n"
    }
   ],
   "source": [
    "# Loading model dictionary\n",
    "state_dict = torch.load(\"checkpoint.pth\")\n",
    "print(state_dict.keys())"
   ]
  },
  {
   "cell_type": "code",
   "execution_count": 10,
   "metadata": {},
   "outputs": [
    {
     "output_type": "execute_result",
     "data": {
      "text/plain": "<All keys matched successfully>"
     },
     "metadata": {},
     "execution_count": 10
    }
   ],
   "source": [
    "# Loading into model\n",
    "model.load_state_dict(state_dict)"
   ]
  },
  {
   "cell_type": "code",
   "execution_count": 11,
   "metadata": {},
   "outputs": [],
   "source": [
    "# But this model is not work with another architechture now\n",
    "# So we have to include information of model in checkpoint itself\n",
    "checkpoint = {\n",
    "    \"input_size\": 784,\n",
    "    \"output_size\": 10,\n",
    "    \"hidden_layers\": [each.out_features for each in model.hidden_layers],\n",
    "    \"state_dict\": model.state_dict()\n",
    "}\n",
    "\n",
    "# Now save this as checkpoint\n",
    "torch.save(checkpoint, \"checkpoint.pth\")"
   ]
  },
  {
   "cell_type": "code",
   "execution_count": 12,
   "metadata": {},
   "outputs": [],
   "source": [
    "# Now we load this and create new model with this information\n",
    "def load_checkpoint(filepath):\n",
    "\n",
    "    checkpoint = torch.load(filepath)\n",
    "    model = fc_model.Network(checkpoint[\"input_size\"],\n",
    "                             checkpoint[\"output_size\"],\n",
    "                             checkpoint[\"hidden_layers\"])\n",
    "    model.load_state_dict(checkpoint[\"state_dict\"])\n",
    "\n",
    "    return model"
   ]
  },
  {
   "cell_type": "code",
   "execution_count": 13,
   "metadata": {
    "tags": []
   },
   "outputs": [
    {
     "output_type": "stream",
     "name": "stdout",
     "text": "Network(\n  (hidden_layers): ModuleList(\n    (0): Linear(in_features=784, out_features=512, bias=True)\n    (1): Linear(in_features=512, out_features=256, bias=True)\n    (2): Linear(in_features=256, out_features=128, bias=True)\n  )\n  (output): Linear(in_features=128, out_features=10, bias=True)\n  (dropout): Dropout(p=0.5, inplace=False)\n)\n"
    }
   ],
   "source": [
    "model = load_checkpoint(\"checkpoint.pth\")\n",
    "print(model)"
   ]
  },
  {
   "cell_type": "code",
   "execution_count": null,
   "metadata": {},
   "outputs": [],
   "source": []
  }
 ],
 "metadata": {
  "language_info": {
   "codemirror_mode": {
    "name": "ipython",
    "version": 3
   },
   "file_extension": ".py",
   "mimetype": "text/x-python",
   "name": "python",
   "nbconvert_exporter": "python",
   "pygments_lexer": "ipython3",
   "version": "3.7.5-final"
  },
  "orig_nbformat": 2,
  "kernelspec": {
   "name": "python37564bit4c236d3b60fd408a91b813d5cdf412d0",
   "display_name": "Python 3.7.5 64-bit"
  }
 },
 "nbformat": 4,
 "nbformat_minor": 2
}